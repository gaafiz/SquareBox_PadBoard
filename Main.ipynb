{
 "cells": [
  {
   "cell_type": "code",
   "execution_count": 3,
   "metadata": {},
   "outputs": [],
   "source": [
    "import kivy"
   ]
  },
  {
   "cell_type": "code",
   "execution_count": null,
   "metadata": {},
   "outputs": [],
   "source": [
    "import kivy \n",
    "kivy.require('1.10.0') \n",
    "   \n",
    "from kivy.app import App \n",
    "from kivy.uix.button import Label \n",
    "\n",
    "from kivy.core.window import Window\n",
    "Window.fullscreen = True\n",
    "\n",
    "# Inherit Kivy's App class which represents the window \n",
    "# for our widgets \n",
    "# HelloKivy inherits all the fields and methods \n",
    "# from Kivy \n",
    "class HelloKivy(App): \n",
    "   \n",
    "    # This returns the content we want in the window \n",
    "    def build(self): \n",
    "   \n",
    "        # Return a label widget with Hello Kivy \n",
    "        return Label(text =\"Hello Geeks\")\n",
    "\n",
    "helloKivy = HelloKivy() \n",
    "helloKivy.run()"
   ]
  },
  {
   "cell_type": "code",
   "execution_count": 2,
   "metadata": {},
   "outputs": [],
   "source": [
    "# main.py \n",
    "# import the kivy module \n",
    "import kivy  \n",
    "  \n",
    "# It’s required that the base Class  \n",
    "# of your App inherits from the App class. \n",
    "from kivy.app import App \n",
    "from kivy.uix.gridlayout import GridLayout \n",
    "  \n",
    "# This class stores the info of .kv file \n",
    "# when it is called goes to my.kv file \n",
    "class MainWidget(GridLayout):  \n",
    "    pass\n",
    "  \n",
    "# we are defining the Base Class of our Kivy App \n",
    "class myApp(App): \n",
    "    def build(self): \n",
    "        # return a MainWidget() as a root widget \n",
    "        return MainWidget() \n",
    "    \n",
    "# Here the class MyApp is initialized \n",
    "# and its run() method called. \n",
    "myApp().run() "
   ]
  },
  {
   "cell_type": "code",
   "execution_count": null,
   "metadata": {},
   "outputs": [
    {
     "name": "stderr",
     "output_type": "stream",
     "text": [
      "[INFO   ] [Logger      ] Record log in C:\\Users\\Dandar\\.kivy\\logs\\kivy_20-03-16_7.txt\n",
      "[INFO   ] [deps        ] Successfully imported \"kivy_deps.gstreamer\" 0.2.0\n",
      "[INFO   ] [deps        ] Successfully imported \"kivy_deps.angle\" 0.2.0\n",
      "[INFO   ] [deps        ] Successfully imported \"kivy_deps.glew\" 0.2.0\n",
      "[INFO   ] [deps        ] Successfully imported \"kivy_deps.sdl2\" 0.2.0\n",
      "[INFO   ] [Kivy        ] v1.11.1\n",
      "[INFO   ] [Kivy        ] Installed at \"C:\\Users\\Dandar\\.conda\\envs\\danzeff-remake\\lib\\site-packages\\kivy\\__init__.py\"\n",
      "[INFO   ] [Python      ] v3.7.6 (default, Jan  8 2020, 20:23:39) [MSC v.1916 64 bit (AMD64)]\n",
      "[INFO   ] [Python      ] Interpreter at \"C:\\Users\\Dandar\\.conda\\envs\\danzeff-remake\\python.exe\"\n",
      "[INFO   ] [Factory     ] 184 symbols loaded\n",
      "[INFO   ] [Image       ] Providers: img_tex, img_dds, img_sdl2, img_gif (img_pil, img_ffpyplayer ignored)\n",
      "[INFO   ] [Text        ] Provider: sdl2\n",
      "[INFO   ] [Window      ] Provider: sdl2\n",
      "[INFO   ] [GL          ] Using the \"OpenGL\" graphics system\n",
      "[INFO   ] [GL          ] GLEW initialization succeeded\n",
      "[INFO   ] [GL          ] Backend used <glew>\n",
      "[INFO   ] [GL          ] OpenGL version <b'4.6.0 NVIDIA 432.00'>\n",
      "[INFO   ] [GL          ] OpenGL vendor <b'NVIDIA Corporation'>\n",
      "[INFO   ] [GL          ] OpenGL renderer <b'GeForce GTX 1050/PCIe/SSE2'>\n",
      "[INFO   ] [GL          ] OpenGL parsed version: 4, 6\n",
      "[INFO   ] [GL          ] Shading version <b'4.60 NVIDIA'>\n",
      "[INFO   ] [GL          ] Texture max size <32768>\n",
      "[INFO   ] [GL          ] Texture max units <32>\n",
      "[INFO   ] [Window      ] auto add sdl2 input provider\n",
      "[INFO   ] [Window      ] virtual keyboard not allowed, single mode, not docked\n",
      "[INFO   ] [Base        ] Start application main loop\n",
      "[INFO   ] [GL          ] NPOT texture support is available\n"
     ]
    }
   ],
   "source": [
    "import kivy\n",
    "from kivy.app import App\n",
    "from kivy.uix.widget import Widget\n",
    "from kivy.properties import ObjectProperty\n",
    "from kivy.uix.label import Label\n",
    "from kivy.uix.floatlayout import FloatLayout\n",
    "from kivy.uix.popup import Popup\n",
    "\n",
    "from kivy.core.window import Window\n",
    "Window.fullscreen = False\n",
    "\n",
    "\n",
    "class Widgets(Widget):\n",
    "    def btn(self):\n",
    "        show_popup()\n",
    "\n",
    "class P(FloatLayout):\n",
    "    pass\n",
    "\n",
    "\n",
    "class MyApp(App):\n",
    "    def build(self):\n",
    "        return Widgets()\n",
    "\n",
    "\n",
    "def show_popup():\n",
    "    show = P()\n",
    "\n",
    "    popupWindow = Popup(title=\"Popup Window\", content=show, size_hint=(None,None),size=(400,400))\n",
    "\n",
    "    popupWindow.open()\n",
    "\n",
    "\n",
    "if __name__ == \"__main__\":\n",
    "    MyApp().run()"
   ]
  },
  {
   "cell_type": "code",
   "execution_count": null,
   "metadata": {},
   "outputs": [],
   "source": []
  }
 ],
 "metadata": {
  "kernelspec": {
   "display_name": "Python 3",
   "language": "python",
   "name": "python3"
  },
  "language_info": {
   "codemirror_mode": {
    "name": "ipython",
    "version": 3
   },
   "file_extension": ".py",
   "mimetype": "text/x-python",
   "name": "python",
   "nbconvert_exporter": "python",
   "pygments_lexer": "ipython3",
   "version": "3.7.6"
  }
 },
 "nbformat": 4,
 "nbformat_minor": 4
}
