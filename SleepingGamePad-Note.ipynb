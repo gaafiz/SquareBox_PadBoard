{
 "cells": [
  {
   "cell_type": "code",
   "execution_count": 1,
   "metadata": {},
   "outputs": [],
   "source": [
    "from inputs import devices\n",
    "from inputs import get_gamepad\n",
    "\n",
    "from inputs import GamePad\n",
    "from inputs import XinputGamepad\n",
    "from inputs import iter_unpack\n",
    "\n",
    "import keyboard\n",
    "\n",
    "import threading\n",
    "import time\n",
    "\n",
    "'''\n",
    "\\brief - This gamepad custom class prevents the iteration from\n",
    "         getting stuck in an infinite loop in waiting for a next\n",
    "         input to be fed.\n",
    "         By adding a sleep inside its _do_iter method, it doesn't\n",
    "         get in an over-stream of the infinite loop, but this is\n",
    "         only suggested if the read() operation is done through\n",
    "         a parallel thread so that the sleep doesn't stop the run.\n",
    "'''\n",
    "class SleepingGamePad(GamePad):\n",
    "    def __init__(self, gamepad):\n",
    "        super(SleepingGamePad, self).__init__(gamepad.manager,\n",
    "                                      gamepad._device_path,\n",
    "                                      gamepad._character_device_path)\n",
    "        \n",
    "    def _do_iter(self):\n",
    "        read_size = self._get_total_read_size()\n",
    "        data = self._get_data(read_size)\n",
    "        if not data:\n",
    "            time.sleep(0.001)\n",
    "            return []\n",
    "        evdev_objects = iter_unpack(data)\n",
    "        events = [self._make_event(*event) for event in evdev_objects]\n",
    "        return events\n",
    "\n",
    "devices.gamepads[0] = SleepingGamePad(devices.gamepads[0])\n",
    "default_gamepad = devices.gamepads[0]\n",
    "\n",
    "def infiniteloop_withsleep():\n",
    "    while 1:\n",
    "        events = default_gamepad.read() #get_gamepad()\n",
    "        for event in events:\n",
    "            print(event.code)\n"
   ]
  },
  {
   "cell_type": "code",
   "execution_count": 2,
   "metadata": {},
   "outputs": [
    {
     "name": "stdout",
     "output_type": "stream",
     "text": [
      "ABS_RX\n",
      "ABS_RY\n",
      "SYN_REPORT\n",
      "ABS_RX\n",
      "ABS_RY\n",
      "SYN_REPORT\n",
      "ABS_RY\n",
      "SYN_REPORT\n",
      "ABS_RX\n",
      "SYN_REPORT\n",
      "ABS_RX\n",
      "SYN_REPORT\n",
      "ABS_RX\n",
      "SYN_REPORT\n",
      "ABS_RY\n",
      "SYN_REPORT\n",
      "ABS_RX\n",
      "ABS_RY\n",
      "SYN_REPORT\n",
      "ABS_RX\n",
      "SYN_REPORT\n",
      "ABS_RY\n",
      "SYN_REPORT\n",
      "ABS_RX\n",
      "SYN_REPORT\n",
      "ABS_RX\n",
      "SYN_REPORT\n",
      "ABS_RX\n",
      "SYN_REPORT\n"
     ]
    }
   ],
   "source": [
    "_monitor_thread = threading.Thread(target=infiniteloop_withsleep, args=())\n",
    "_monitor_thread.daemon = True\n",
    "_monitor_thread.start()"
   ]
  },
  {
   "cell_type": "code",
   "execution_count": null,
   "metadata": {},
   "outputs": [],
   "source": []
  }
 ],
 "metadata": {
  "kernelspec": {
   "display_name": "Python 3",
   "language": "python",
   "name": "python3"
  },
  "language_info": {
   "codemirror_mode": {
    "name": "ipython",
    "version": 3
   },
   "file_extension": ".py",
   "mimetype": "text/x-python",
   "name": "python",
   "nbconvert_exporter": "python",
   "pygments_lexer": "ipython3",
   "version": "3.7.6"
  }
 },
 "nbformat": 4,
 "nbformat_minor": 4
}
